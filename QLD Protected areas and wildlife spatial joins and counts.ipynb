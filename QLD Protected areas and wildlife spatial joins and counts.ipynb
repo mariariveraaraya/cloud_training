{
 "cells": [
  {
   "cell_type": "markdown",
   "metadata": {
    "application/vnd.databricks.v1+cell": {
     "cellMetadata": {
      "byteLimit": 2048000,
      "rowLimit": 10000
     },
     "inputWidgets": {},
     "nuid": "db0a44ea-98ae-4a45-9584-1db8c9768fa9",
     "showTitle": false,
     "title": ""
    }
   },
   "source": [
    "\n",
    "#### Description\n",
    "\n",
    "This notebook is part of a proof of concept developed to test the capabilities in the QESD platform to process large geospatial data and replicate workflows from ArcGIS Pro. In particular, this notebook shows how to perform spatial joins and counts using two geospatial datasets.\n",
    "\n",
    "#### Datasets and methods\n",
    "\n",
    "The datasets were manually ingested as there is not a current integration between SIR or Open Data and the QESD platform.\n",
    "The protected areas of Queensland geospatial dataset was downloaded from [SIR](https://spatial.information.qld.gov.au/arcgis/rest/services/SIR-QGov/ProtectedAreasTerrestrial/FeatureServer/5) in geojson format and then read with geopandas locally to preserve the geometry. It was then saved as parquet format and uploaded to Blob Storage. Alternatively, the json file can be read directly with geopandas if the file is stored in Databricks Workspace, for example: \n",
    "example = gpd.read_file('/Workspace/Users/maria.riveraaraya@des.qld.gov.au/spatial autocorrelation/pa_all.json'). This dataset contains 1926 polygons (~ 7 MB).\n",
    "\n",
    "The second file is the WildNet wildlife records (until 2023-09-21) sourced from [Open data](https://qldspatial.information.qld.gov.au/catalogue/custom/detail.page?fid={40D75ED6-3959-41EB-A5C8-E563FA5B66CA}) in gpkg format. The file was read with geopandas locally to preserve the geometry. The geometry column was transformed to string to make it compatible with the expected datatypes in parquet. It was then saved as parquet format and uploaded to blob Storage in the platform. This dataset contains ~2.2 million records (1.4 GB).\n",
    "\n",
    "#### Findings\n",
    "\n",
    "It was possible to replicate the process of joining both datasets and producing total wildlife counts per protected area and per polygon using the Python module geopandas. Further granularity (filter, select) can be achieved based on future requirements. In summary, spatial joins, total wildlife counts in 1926 polygons and 1047 protected areas (from ~1770 to 2023-09-21) including those with multipolygons were performed. \n",
    "\n",
    "\n",
    "#### Prerequisites\n",
    "- Familiarity with spatial data structures and objects\n",
    "- Familiarity with Databricks\n",
    "- Understanding of Azure Data Lake Storage (ADLS)\n",
    "- Familiarity with Python\n",
    "- Basic understanding of Spark\n",
    "\n",
    "\n",
    "#### Setup \n",
    "\n",
    "1. Make sure you have access to a Databricks environment in the QESD platform.\n",
    "2. Navigate to sbox-databricks-prd\n",
    "3. Navigate to Workspace and open the folder platform_repo/geospatial. This folder contains several examples demonstrating the use of Azure Databricks for different geospatial analysis and operations in vector data, including building choropleth maps, spatial joins, counts and calculation of polygon areas in small and large datasets.\n",
    "4. Start a cluster. We recommend 'singlenode' as we do not need distributed computing and our datasets are small. \n",
    "\n"
   ]
  },
  {
   "cell_type": "code",
   "execution_count": null,
   "metadata": {
    "application/vnd.databricks.v1+cell": {
     "cellMetadata": {
      "byteLimit": 2048000,
      "rowLimit": 10000
     },
     "inputWidgets": {},
     "nuid": "a45447eb-a203-45a0-9ba2-f7c28974b37b",
     "showTitle": false,
     "title": ""
    }
   },
   "outputs": [],
   "source": [
    "# Install modules\n",
    "\n",
    "%pip install geopandas==0.14.0 # Pandas equivalent to process geospatial data\n",
    "%pip install folium==0.14.0 # To produce interactive maps"
   ]
  },
  {
   "cell_type": "code",
   "execution_count": null,
   "metadata": {
    "application/vnd.databricks.v1+cell": {
     "cellMetadata": {
      "byteLimit": 2048000,
      "rowLimit": 10000
     },
     "inputWidgets": {},
     "nuid": "43215939-2e57-48de-9475-da3a0f5ada45",
     "showTitle": false,
     "title": ""
    }
   },
   "outputs": [],
   "source": [
    "# These libraries are pre-installed in a Databricks 12.2 LTS runtime cluster (except geopandas and folium)\n",
    "\n",
    "import geopandas as gpd # Pandas equivalent to process geospatial data\n",
    "from shapely.geometry import Polygon, Point # To create geometries \n",
    "import folium # To produce interactive maps\n",
    "from json import loads  # To load json files\n",
    "from shapely import wkt # To convert wkt geometries\n",
    "import pandas as pd # To process data    \n",
    "import os # To interact with the operating system\n",
    "from folium import plugins # To produce interactive maps"
   ]
  },
  {
   "cell_type": "code",
   "execution_count": null,
   "metadata": {
    "application/vnd.databricks.v1+cell": {
     "cellMetadata": {
      "byteLimit": 2048000,
      "rowLimit": 10000
     },
     "inputWidgets": {},
     "nuid": "0b3fb41e-ad65-4cf1-ba4a-5a8b0155c156",
     "showTitle": false,
     "title": ""
    }
   },
   "outputs": [],
   "source": [
    "# Import datasets from Azure Data Lake Storage (ADLS)\n",
    "\n",
    "# Get the environment name from the system environment variables\n",
    "\n",
    "\n",
    "env = os.getenv('tfenvironmentnameshort')\n",
    "\n",
    "# Load the 'pa_all_srt.parquet' dataset from ADLS into a Spark DataFrame\n",
    "# The file path is constructed using the environment name\n",
    "\n",
    "protected_areas = (\n",
    "  spark.read\n",
    "    .format(\"parquet\")\n",
    "    .load(f'abfss://lake-userupload@sboxlake{env}.dfs.core.windows.net/geospatial_test/pa_all_srt.parquet')\n",
    ")\n",
    "\n",
    "# Load the 'wildnet_pp_str.parquet' dataset from ADLS into a Spark DataFrame\n",
    "# The file path is constructed using the environment name\n",
    "# The 'header' option is set to 'true' which means the first row of the dataset is considered as the header\n",
    "\n",
    "wild = (\n",
    "  spark.read\n",
    "    .option(\"header\", \"true\")\n",
    "    .format(\"parquet\")\n",
    "    .load(f'abfss://lake-userupload@sboxlake{env}.dfs.core.windows.net/geospatial_test/wildnet_pp_str.parquet')\n",
    ")\n"
   ]
  },
  {
   "cell_type": "code",
   "execution_count": null,
   "metadata": {
    "application/vnd.databricks.v1+cell": {
     "cellMetadata": {
      "byteLimit": 2048000,
      "rowLimit": 10000
     },
     "inputWidgets": {},
     "nuid": "b579c062-e32d-4d4e-b4ef-8dd7a1a06901",
     "showTitle": false,
     "title": ""
    }
   },
   "outputs": [],
   "source": [
    "# Convert Spark DataFrames to pandas DataFrames \n",
    "# This is necessary to convert the geometries from wkt to shapely geometries\n",
    "\n",
    "pa_pd = protected_areas.toPandas()\n",
    "wild_pd = wild.toPandas()\n",
    "\n",
    "# Convert pandas DataFrames to GeoPandas DataFrames\n",
    "# This is necessary to perform spatial operations\n",
    "\n",
    "pa_gdf = gpd.GeoDataFrame(pa_pd)\n",
    "wild_gpd = gpd.GeoDataFrame(wild_pd)"
   ]
  },
  {
   "cell_type": "code",
   "execution_count": null,
   "metadata": {
    "application/vnd.databricks.v1+cell": {
     "cellMetadata": {
      "byteLimit": 2048000,
      "rowLimit": 10000
     },
     "inputWidgets": {},
     "nuid": "e327a4d4-c9b5-4135-8c1e-e8863775d44b",
     "showTitle": false,
     "title": ""
    }
   },
   "outputs": [],
   "source": [
    "# Define geometries\n",
    "\n",
    "# The 'geometry' column in the original data is a string\n",
    "# We need to convert this string representation of geometry into a Shapely geometry object\n",
    "# The 'from_wkt' function from GeoPandas is used for this conversion\n",
    "\n",
    "pa_gdf['geometry2'] = gpd.GeoSeries.from_wkt(pa_gdf['geometry'])\n",
    "\n",
    "# Now, we initialize a new GeoDataFrame using the updated 'geometry2' column as the geometry\n",
    "# Note: 'geometry' is the default geometry column name in GeoPandas\n",
    "pa_gdf = gpd.GeoDataFrame(pa_gdf).set_geometry(\"geometry2\")\n",
    "\n",
    "# replace string geometry representations with shapely geometries\n",
    "wild_gpd['geometry2'] = gpd.GeoSeries.from_wkt(wild_gpd['geometry'])\n",
    "\n",
    "# We repeat the same steps for the 'wild' dataset\n",
    "\n",
    "wild_gpd= gpd.GeoDataFrame(wild_gpd).set_geometry(\"geometry2\")"
   ]
  },
  {
   "cell_type": "code",
   "execution_count": null,
   "metadata": {
    "application/vnd.databricks.v1+cell": {
     "cellMetadata": {
      "byteLimit": 2048000,
      "rowLimit": 10000
     },
     "inputWidgets": {},
     "nuid": "03391762-d311-4c05-81e0-d09e75a52c2f",
     "showTitle": false,
     "title": ""
    }
   },
   "outputs": [],
   "source": [
    "# Perform spatial join on right to retain all records from observation points\n",
    "# The 'contains' operation is used to find all protected areas that contain the observation points\n",
    "\n",
    "joined_inner = gpd.sjoin(pa_gdf, wild_gpd, how='right', op='contains')"
   ]
  },
  {
   "cell_type": "code",
   "execution_count": null,
   "metadata": {
    "application/vnd.databricks.v1+cell": {
     "cellMetadata": {
      "byteLimit": 2048000,
      "rowLimit": 10000
     },
     "inputWidgets": {},
     "nuid": "0f472f73-f7ec-4c94-b6bb-888074e22a8b",
     "showTitle": false,
     "title": ""
    }
   },
   "outputs": [],
   "source": [
    "# Count by protected area and polygon\n",
    "# The 'groupby' function is used to group the data by protected area and polygon\n",
    "\n",
    "point_count = joined_inner.groupby(['geometry_left', 'estatename']).size().reset_index(name='total number of sightings')\n"
   ]
  },
  {
   "cell_type": "code",
   "execution_count": null,
   "metadata": {
    "application/vnd.databricks.v1+cell": {
     "cellMetadata": {
      "byteLimit": 2048000,
      "rowLimit": 10000
     },
     "inputWidgets": {},
     "nuid": "b3d73438-2c40-4ecc-95eb-9cbb34cfaf15",
     "showTitle": false,
     "title": ""
    }
   },
   "outputs": [],
   "source": [
    "# Rejoin with protected areas\n",
    "# The 'merge' function is used to join the 'point_count' and 'pa_gdf' GeoDataFrames\n",
    "merged_counts_pa = point_count.merge(pa_gdf, left_on = ['geometry_left'], right_on= ['geometry'], how = 'outer')\n",
    "\n",
    "# Convert to dataframe\n",
    "# The 'set_geometry' function is used to set the 'geometry2' column as the geometry column\n",
    "merged_gdf = gpd.GeoDataFrame(merged_counts_pa).set_geometry('geometry2')"
   ]
  },
  {
   "cell_type": "code",
   "execution_count": null,
   "metadata": {
    "application/vnd.databricks.v1+cell": {
     "cellMetadata": {
      "byteLimit": 2048000,
      "rowLimit": 10000
     },
     "inputWidgets": {},
     "nuid": "1b7accce-ec5a-4994-bf09-4db8dfaf07b2",
     "showTitle": false,
     "title": ""
    }
   },
   "outputs": [],
   "source": [
    "# Calculate total number of sightings per protected area\n",
    "# The 'groupby' function is used to group the data by protected area\n",
    "# The 'aggregate' function is used to calculate the sum of the 'total number of sightings' column\n",
    "# The 'rename' function is used to rename the 'total number of sightings' column to 'aggregated sightings'\n",
    "\n",
    "aggregation_functions = {'total number of sightings': 'sum'}\n",
    "merged_agg = merged_gdf.groupby(merged_gdf['estatename_y']).aggregate(aggregation_functions)\n",
    "merged_agg = merged_agg.rename(columns={\"total number of sightings\": \"aggregated sightings\"})"
   ]
  },
  {
   "cell_type": "code",
   "execution_count": null,
   "metadata": {
    "application/vnd.databricks.v1+cell": {
     "cellMetadata": {
      "byteLimit": 2048000,
      "rowLimit": 10000
     },
     "inputWidgets": {},
     "nuid": "f8b8e7d7-9b99-4b06-a575-2785effc6d8f",
     "showTitle": false,
     "title": ""
    }
   },
   "outputs": [],
   "source": [
    "# Set correct indexes to join aggregations with previous dataframe\n",
    "# The 'set_index' function is used to set the 'estatename_y' column as the index\n",
    "# The 'join' function is used to join the 'merged_gdf_index' and 'merged_agg' GeoDataFrames\n",
    "# The 'reset_index' function is used to reset the index of the GeoDataFrame\n",
    "\n",
    "merged_gdf_index = merged_gdf.set_index('estatename_y')\n",
    "merged = merged_gdf_index.join(merged_agg).reset_index()\n"
   ]
  },
  {
   "cell_type": "code",
   "execution_count": null,
   "metadata": {
    "application/vnd.databricks.v1+cell": {
     "cellMetadata": {
      "byteLimit": 2048000,
      "rowLimit": 10000
     },
     "inputWidgets": {},
     "nuid": "181626f3-cc2e-4fd1-a8cc-871af2117580",
     "showTitle": false,
     "title": ""
    }
   },
   "outputs": [],
   "source": [
    "# Merge resulting dataframe with raw protected areas to include polygons with zero sightings\n",
    "# The 'merge' function is used to join the 'merged' and 'pa_gdf' GeoDataFrames\n",
    "# The 'left_on' and 'right_on' parameters are used to specify the join columns\n",
    "\n",
    "final_merged = merged.merge(pa_gdf, left_on= 'geometry2', right_on= 'geometry2', how = 'outer')\n",
    "\n",
    "# Include polygons with zero sighthings. Set zero in the polygon count as they show as NAs and replace NA's in aggregated sightings in those polygons with the value already calculated.\n",
    "# The 'fillna' function is used to replace all NaN values with 0\n",
    "# The 'groupby' function is used to group the data by protected area\n",
    "# The 'apply' function is used to apply a lambda function to the 'aggregated sightings' column\n",
    "# The lambda function is used to replace all NaN values with the maximum value in the 'aggregated sightings' column\n",
    "\n",
    "final_merged['total number of sightings'] = final_merged['total number of sightings'].fillna(0)\n",
    "final_merged['aggregated sightings'] = final_merged.groupby('estatename')['aggregated sightings'].apply(lambda x: x.fillna(x.max()))\n",
    "final_merged['aggregated sightings'] = final_merged['aggregated sightings'].fillna(0)\n",
    "final_merged = final_merged.drop(['estatename_x', 'geometry_x', 'geometry_y', 'geometry_left', 'estatename_y'], axis=1)"
   ]
  },
  {
   "cell_type": "code",
   "execution_count": null,
   "metadata": {
    "application/vnd.databricks.v1+cell": {
     "cellMetadata": {
      "byteLimit": 2048000,
      "rowLimit": 10000
     },
     "inputWidgets": {},
     "nuid": "7306ca7b-7f6c-4fa3-8a66-bc9668474f69",
     "showTitle": false,
     "title": ""
    }
   },
   "outputs": [],
   "source": [
    "# Test with three protected areas to compare with ArcGIS Pro\n",
    "# The 'loc' function is used to select the rows where the 'estatename' column is equal to 'Great Sandy National Park', 'Minerva Hills National Park', or 'Tinana Creek Conservation Park'\n",
    "\n",
    "filtered_df = final_merged.loc[(final_merged['estatename'] == 'Great Sandy National Park') | (final_merged['estatename'] == 'Minerva Hills National Park') | (final_merged['estatename'] == 'Tinana Creek Conservation Park')]\n",
    "\n",
    "filtered_df"
   ]
  },
  {
   "cell_type": "code",
   "execution_count": null,
   "metadata": {
    "application/vnd.databricks.v1+cell": {
     "cellMetadata": {
      "byteLimit": 2048000,
      "rowLimit": 10000
     },
     "inputWidgets": {},
     "nuid": "b01e02d4-acb5-49ca-b99a-101bfcd6a5d5",
     "showTitle": false,
     "title": ""
    }
   },
   "outputs": [],
   "source": [
    "# Use folium to create a map. Only three protected areas are included for demonstration\n",
    "# The 'Map' function is used to create a map\n",
    "# The 'location' parameter is used to specify the center of the map\n",
    "# The 'zoom_start' parameter is used to specify the zoom level of the map\n",
    "\n",
    "m = folium.Map(location = [-24.0807, 148.0641], zoom_start = 6)\n",
    "\n",
    "\n",
    "# Use subset of main dataframe to build map\n",
    "\n",
    "final_merged_gdf = gpd.GeoDataFrame(filtered_df.set_geometry('geometry2')) \n",
    "final_merged_gdf = final_merged_gdf.set_crs('EPSG:4283')\n",
    "\n",
    "\n",
    "# Convert to geojson so plugin from folium can be used\n",
    "# The 'to_json' function is used to convert the GeoDataFrame to a GeoJSON object\n",
    "\n",
    "points_gjson= folium.features.GeoJson(final_merged_gdf, name=\"wildlife counts\")\n",
    "points_gjson.add_to(m)\n"
   ]
  },
  {
   "cell_type": "code",
   "execution_count": null,
   "metadata": {
    "application/vnd.databricks.v1+cell": {
     "cellMetadata": {
      "byteLimit": 2048000,
      "rowLimit": 10000
     },
     "inputWidgets": {},
     "nuid": "03321333-4846-4623-aeff-a86601bfaa6e",
     "showTitle": false,
     "title": ""
    }
   },
   "outputs": [],
   "source": [
    "# Use folium plugin to create tooltip\n",
    "# The 'plugins.MarkerCluster' function is used to create a marker cluster\n",
    "# The 'add_to' function is used to add the marker cluster to the map\n",
    "folium.features.GeoJson(final_merged_gdf,  \n",
    "                        name='Labels',\n",
    "                        style_function=lambda x: {'color':'transparent','fillColor':'transparent','weight':0},\n",
    "                        tooltip=folium.features.GeoJsonTooltip(fields=['aggregated sightings', 'estatename', 'total number of sightings'], \n",
    "                                                                aliases = ['Total number of sightings in protected area', 'Protected area', 'Number of sightings in polygon'],\n",
    "                                                                labels=True,\n",
    "                                                                sticky=False\n",
    "                                                                            )\n",
    "                       ).add_to(m)\n",
    "\n",
    "m"
   ]
  },
  {
   "cell_type": "code",
   "execution_count": null,
   "metadata": {
    "application/vnd.databricks.v1+cell": {
     "cellMetadata": {
      "byteLimit": 2048000,
      "rowLimit": 10000
     },
     "inputWidgets": {},
     "nuid": "6afc3bf8-e255-4de9-b83d-44897e7f0084",
     "showTitle": false,
     "title": ""
    }
   },
   "outputs": [],
   "source": [
    "# Save map to workspace - replace with your own path\n",
    "\n",
    "#m.save(outfile='/Workspace/Users/maria.riveraaraya@des.qld.gov.au/spatial autocorrelation/sandy_minerva_tinana.html')"
   ]
  },
  {
   "cell_type": "code",
   "execution_count": null,
   "metadata": {
    "application/vnd.databricks.v1+cell": {
     "cellMetadata": {
      "byteLimit": 2048000,
      "rowLimit": 10000
     },
     "inputWidgets": {},
     "nuid": "6a02adb3-71b4-4e21-a3f3-37034bdc304f",
     "showTitle": false,
     "title": ""
    }
   },
   "outputs": [],
   "source": [
    "# Check number of polygons is correct\n",
    "# The 'count' function is used to count the number of rows in the GeoDataFrame\n",
    "\n",
    "# To store in parquet - geometry column needs to be changed\n",
    "\n",
    "merged_pq = final_merged.copy()\n",
    "\n",
    "merged_pq['geometry2'] = merged_pq['geometry2'].astype(str)\n",
    "\n",
    "merged_pq = merged_pq.rename(columns = {'total number of sightings': 'number of sightings in polygon', 'aggregated sightings':'total number of sightings in protected area', 'geometry2': 'geometry'})\n",
    "\n",
    "merged_pq.count()\n"
   ]
  },
  {
   "cell_type": "code",
   "execution_count": null,
   "metadata": {
    "application/vnd.databricks.v1+cell": {
     "cellMetadata": {
      "byteLimit": 2048000,
      "rowLimit": 10000
     },
     "inputWidgets": {},
     "nuid": "72a9790c-344c-47e6-843f-11c9cf268eed",
     "showTitle": false,
     "title": ""
    }
   },
   "outputs": [],
   "source": [
    "# Browse total number of sightings per protected area\n",
    "# The 'drop_duplicates' function is used to drop duplicate rows based on the 'estatename' and 'total number of sightings in protected area' columns\n",
    "# The 'createDataFrame' function is used to create a Spark DataFrame from a pandas DataFrame\n",
    "\n",
    "\n",
    "merged_pq_sum = merged_pq[['estatename', 'total number of sightings in protected area']].drop_duplicates()\n",
    "display(spark.createDataFrame(merged_pq_sum))"
   ]
  },
  {
   "cell_type": "code",
   "execution_count": null,
   "metadata": {
    "application/vnd.databricks.v1+cell": {
     "cellMetadata": {
      "byteLimit": 2048000,
      "rowLimit": 10000
     },
     "inputWidgets": {},
     "nuid": "f3c1d224-64c5-4183-9d38-fd3293e0aecc",
     "showTitle": false,
     "title": ""
    }
   },
   "outputs": [],
   "source": [
    "# To store csv\n",
    "  \n",
    " #spark.createDataFrame(test).repartition(1).write.mode(\"overwrite\").option(\"header\", \"true\").csv(f'abfss://lake-userupload@sboxlake{env}.dfs.core.windows.net/geospatial/sandy_minerva_test.csv')"
   ]
  },
  {
   "cell_type": "code",
   "execution_count": null,
   "metadata": {
    "application/vnd.databricks.v1+cell": {
     "cellMetadata": {
      "byteLimit": 2048000,
      "rowLimit": 10000
     },
     "inputWidgets": {},
     "nuid": "1fe7f1f5-687d-40e9-9d55-2a98d1fb7d1e",
     "showTitle": false,
     "title": ""
    }
   },
   "outputs": [],
   "source": [
    "# Write to blob \n",
    "# The 'write' function is used to write the Spark DataFrame to the specified file path\n",
    "\n",
    "spark.createDataFrame(merged_pq).write.mode(\"overwrite\").parquet(f'abfss://lake-userupload@sboxlake{env}.dfs.core.windows.net/geospatial_test/pr_areas_counts.parquet')"
   ]
  }
 ],
 "metadata": {
  "application/vnd.databricks.v1+notebook": {
   "dashboards": [],
   "language": "python",
   "notebookMetadata": {
    "pythonIndentUnit": 4
   },
   "notebookName": "QLD Protected areas and wildlife spatial joins and counts",
   "widgets": {}
  },
  "language_info": {
   "name": "python"
  }
 },
 "nbformat": 4,
 "nbformat_minor": 0
}
